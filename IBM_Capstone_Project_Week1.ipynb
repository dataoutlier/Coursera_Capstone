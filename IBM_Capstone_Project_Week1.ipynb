{
 "cells": [
  {
   "cell_type": "markdown",
   "metadata": {},
   "source": [
    "# IBM Capstone Project - Week 1"
   ]
  },
  {
   "cell_type": "markdown",
   "metadata": {},
   "source": [
    "### Introduction / Business Problem"
   ]
  },
  {
   "cell_type": "markdown",
   "metadata": {},
   "source": [
    "After much delay, United Kingdom is due to leave the European Union on January 31, 2020. Members of Parliament have voted 358 to 234 in favor of the Withdrawal Agreement Bill to approve Boris Johnson's Brexit deal.\n",
    "\n",
    "UK's exit from Europe will result in increased difficulty of movement of people and good's between the EU and UK. Given the imminent exit, businesses and people have already started making plans to relocate from their current locations in UK, back to a suitable place in EU. Multiple socio-economic and political factors influence the selection of a suitable relocation city. One of these factors is the presence of public amenities, cultural sites and eating places. Ideally people would like to relocate to a city that offers similar kinds of public amenities and life as their city of origin.\n",
    "\n",
    "We will therefore try to find cities in the EU that match the character of major cities in the UK. The results of this analysis can be used as a guide by those looking to relocate from UK to EU."
   ]
  },
  {
   "cell_type": "markdown",
   "metadata": {},
   "source": [
    "### Data"
   ]
  },
  {
   "cell_type": "markdown",
   "metadata": {},
   "source": [
    "We will start with a list of cities in EU and UK along with their respective populations. The source of this would be Wikipedia. From this list, we will select cities with at least half a million population for further analysis.\n",
    "\n",
    "For each of the city we will add geo-coordinates of the city center using GeoPy. With city center identified, we will use Foursquare API to gather a list of venues in a 20 km radius around the city. Using this list of venues, we will match cities in EU that can serve as relocation substitutes for cities in UK."
   ]
  }
 ],
 "metadata": {
  "kernelspec": {
   "display_name": "Python 3",
   "language": "python",
   "name": "python3"
  },
  "language_info": {
   "codemirror_mode": {
    "name": "ipython",
    "version": 3
   },
   "file_extension": ".py",
   "mimetype": "text/x-python",
   "name": "python",
   "nbconvert_exporter": "python",
   "pygments_lexer": "ipython3",
   "version": "3.7.1"
  }
 },
 "nbformat": 4,
 "nbformat_minor": 2
}
