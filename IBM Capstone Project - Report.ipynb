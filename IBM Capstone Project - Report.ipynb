{
 "cells": [
  {
   "cell_type": "markdown",
   "metadata": {},
   "source": [
    "# IBM Capstone Project"
   ]
  },
  {
   "cell_type": "markdown",
   "metadata": {},
   "source": [
    "## Introduction"
   ]
  },
  {
   "cell_type": "markdown",
   "metadata": {},
   "source": [
    "After much delay, United Kingdom is due to leave the European Union on January 31, 2020. Members of Parliament have voted 358 to 234 in favor of the Withdrawal Agreement Bill to approve Boris Johnson's Brexit deal.\n",
    "\n",
    "UK's exit from Europe will result in increased difficulty of movement of people and good's between the EU and UK. Given the imminent exit, businesses and people have already started making plans to relocate from their current locations in UK, back to a suitable place in EU. Multiple socio-economic and political factors influence the selection of a suitable relocation city. One of these factors is the presence of public amenities, cultural sites and eating places. Ideally people would like to relocate to a city that offers similar kinds of public amenities and life as their city of origin.\n",
    "\n",
    "We will therefore try to find cities in the EU that match the character of major cities in the UK. The results of this analysis can be used as a guide by those looking to relocate from UK to EU."
   ]
  },
  {
   "cell_type": "markdown",
   "metadata": {},
   "source": [
    "## Data"
   ]
  },
  {
   "cell_type": "markdown",
   "metadata": {},
   "source": [
    "We will start with a list of cities in EU and UK along with their respective populations. The source of this would be Wikipedia. From this list, we will select cities with at least half a million population for further analysis.\n",
    "\n",
    "For each of the city we will add geo-coordinates of the city center using GeoPy. With city center identified, we will use Foursquare API to gather a list of venues in a 20 km radius around the city. The venues will help us identify whether the city is filled with cultural sites or has a particular kind of restaurant etc. Using this list of venues, we will identify cities that have similar kind of venues so that we can suggest cities in EU that can serve as relocation substitutes for cities in UK."
   ]
  },
  {
   "cell_type": "markdown",
   "metadata": {},
   "source": [
    "## Methodology"
   ]
  },
  {
   "cell_type": "markdown",
   "metadata": {},
   "source": [
    "Our list of cities with more than half a million population has a total of 62 cities. Of these 62, eight cities are in the UK. The venues pulled from Foursquare have a total of 346 unique venue types. The top 5 most common venues are hotel, cafe, coffee shop, plaza and park.\n",
    "\n",
    "In order to be able to suggest alternative cities for UK cities, we need to be able to cluster our 62 cities by the similarity of venues in them. We first calculate the frequency of occurrence of a venue type in each city and then rank them according to their frequency of occurrence.\n",
    "\n",
    "Our final dataset contains the top 10 most occurring venue types for each of our 62 cities. Since we need to classify these cities into similar clusters, we will be using k-means clustering algorithm. As the number of UK cities in our dataset are 8, we tentatively run the k-means algorithm with k=8."
   ]
  },
  {
   "cell_type": "markdown",
   "metadata": {},
   "source": [
    "## Results"
   ]
  },
  {
   "cell_type": "markdown",
   "metadata": {},
   "source": [
    "Out of the 8 cluster of cities, 4 clusters (Cluster 2, 3, 5 & 6) do not have any city from UK so we can ignore them for the purpose of our problem. 2 clusters (Cluster 1 & 7) have cities only from the UK.\n",
    "\n",
    "2 of the UK cities fall in clusters where there are multiple other cities from the EU."
   ]
  },
  {
   "cell_type": "markdown",
   "metadata": {},
   "source": [
    "## Discussion & Conclusion"
   ]
  },
  {
   "cell_type": "markdown",
   "metadata": {},
   "source": [
    "For 6 UK cities in clusters 1 & 7, we are unable to suggest any alternative city in EU for relocation. However, for Edinburgh and London we have multiple cities in their respective clusters which can be considered by people or businesses looking to relocate.\n",
    "\n",
    "Our analysis shows that majority of the big UK cities are unique in their characteristics of public venues and hence we are unable to find similar cities in the rest of EU. For London and Edinburgh however, their multi-cultural and diverse characteristics imply that there are multiple EU cities that can be suitable substitutes for relocation."
   ]
  }
 ],
 "metadata": {
  "kernelspec": {
   "display_name": "Python 3",
   "language": "python",
   "name": "python3"
  },
  "language_info": {
   "codemirror_mode": {
    "name": "ipython",
    "version": 3
   },
   "file_extension": ".py",
   "mimetype": "text/x-python",
   "name": "python",
   "nbconvert_exporter": "python",
   "pygments_lexer": "ipython3",
   "version": "3.7.1"
  }
 },
 "nbformat": 4,
 "nbformat_minor": 2
}
